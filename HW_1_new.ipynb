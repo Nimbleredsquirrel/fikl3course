{
  "cells": [
    {
      "cell_type": "code",
      "source": [
        "!pip install natasha"
      ],
      "metadata": {
        "colab": {
          "base_uri": "https://localhost:8080/"
        },
        "id": "FF0htY_cytCp",
        "outputId": "52e41fd2-08fb-42c9-c37e-ccf9c3e8a17b"
      },
      "id": "FF0htY_cytCp",
      "execution_count": 4,
      "outputs": [
        {
          "output_type": "stream",
          "name": "stdout",
          "text": [
            "Collecting natasha\n",
            "  Downloading natasha-1.6.0-py3-none-any.whl (34.4 MB)\n",
            "\u001b[2K     \u001b[90m━━━━━━━━━━━━━━━━━━━━━━━━━━━━━━━━━━━━━━━━\u001b[0m \u001b[32m34.4/34.4 MB\u001b[0m \u001b[31m24.7 MB/s\u001b[0m eta \u001b[36m0:00:00\u001b[0m\n",
            "\u001b[?25hCollecting pymorphy2 (from natasha)\n",
            "  Downloading pymorphy2-0.9.1-py3-none-any.whl (55 kB)\n",
            "\u001b[2K     \u001b[90m━━━━━━━━━━━━━━━━━━━━━━━━━━━━━━━━━━━━━━━━\u001b[0m \u001b[32m55.5/55.5 kB\u001b[0m \u001b[31m5.9 MB/s\u001b[0m eta \u001b[36m0:00:00\u001b[0m\n",
            "\u001b[?25hCollecting razdel>=0.5.0 (from natasha)\n",
            "  Downloading razdel-0.5.0-py3-none-any.whl (21 kB)\n",
            "Collecting navec>=0.9.0 (from natasha)\n",
            "  Downloading navec-0.10.0-py3-none-any.whl (23 kB)\n",
            "Collecting slovnet>=0.6.0 (from natasha)\n",
            "  Downloading slovnet-0.6.0-py3-none-any.whl (46 kB)\n",
            "\u001b[2K     \u001b[90m━━━━━━━━━━━━━━━━━━━━━━━━━━━━━━━━━━━━━━━━\u001b[0m \u001b[32m46.7/46.7 kB\u001b[0m \u001b[31m5.6 MB/s\u001b[0m eta \u001b[36m0:00:00\u001b[0m\n",
            "\u001b[?25hCollecting yargy>=0.16.0 (from natasha)\n",
            "  Downloading yargy-0.16.0-py3-none-any.whl (33 kB)\n",
            "Collecting ipymarkup>=0.8.0 (from natasha)\n",
            "  Downloading ipymarkup-0.9.0-py3-none-any.whl (14 kB)\n",
            "Collecting intervaltree>=3 (from ipymarkup>=0.8.0->natasha)\n",
            "  Downloading intervaltree-3.1.0.tar.gz (32 kB)\n",
            "  Preparing metadata (setup.py) ... \u001b[?25l\u001b[?25hdone\n",
            "Requirement already satisfied: numpy in /usr/local/lib/python3.10/dist-packages (from navec>=0.9.0->natasha) (1.23.5)\n",
            "Collecting dawg-python>=0.7.1 (from pymorphy2->natasha)\n",
            "  Downloading DAWG_Python-0.7.2-py2.py3-none-any.whl (11 kB)\n",
            "Collecting pymorphy2-dicts-ru<3.0,>=2.4 (from pymorphy2->natasha)\n",
            "  Downloading pymorphy2_dicts_ru-2.4.417127.4579844-py2.py3-none-any.whl (8.2 MB)\n",
            "\u001b[2K     \u001b[90m━━━━━━━━━━━━━━━━━━━━━━━━━━━━━━━━━━━━━━━━\u001b[0m \u001b[32m8.2/8.2 MB\u001b[0m \u001b[31m81.7 MB/s\u001b[0m eta \u001b[36m0:00:00\u001b[0m\n",
            "\u001b[?25hCollecting docopt>=0.6 (from pymorphy2->natasha)\n",
            "  Downloading docopt-0.6.2.tar.gz (25 kB)\n",
            "  Preparing metadata (setup.py) ... \u001b[?25l\u001b[?25hdone\n",
            "Requirement already satisfied: sortedcontainers<3.0,>=2.0 in /usr/local/lib/python3.10/dist-packages (from intervaltree>=3->ipymarkup>=0.8.0->natasha) (2.4.0)\n",
            "Building wheels for collected packages: docopt, intervaltree\n",
            "  Building wheel for docopt (setup.py) ... \u001b[?25l\u001b[?25hdone\n",
            "  Created wheel for docopt: filename=docopt-0.6.2-py2.py3-none-any.whl size=13705 sha256=937a328d0e89cb4b77cbc1d2cff54b49ff4cf7915486f6ec29178801078ceab4\n",
            "  Stored in directory: /root/.cache/pip/wheels/fc/ab/d4/5da2067ac95b36618c629a5f93f809425700506f72c9732fac\n",
            "  Building wheel for intervaltree (setup.py) ... \u001b[?25l\u001b[?25hdone\n",
            "  Created wheel for intervaltree: filename=intervaltree-3.1.0-py2.py3-none-any.whl size=26094 sha256=fdf9041f012f5d9e0adbd46316745251741f94cab49d95b9f57dacb2074c37c1\n",
            "  Stored in directory: /root/.cache/pip/wheels/fa/80/8c/43488a924a046b733b64de3fac99252674c892a4c3801c0a61\n",
            "Successfully built docopt intervaltree\n",
            "Installing collected packages: razdel, pymorphy2-dicts-ru, docopt, dawg-python, pymorphy2, navec, intervaltree, yargy, slovnet, ipymarkup, natasha\n",
            "Successfully installed dawg-python-0.7.2 docopt-0.6.2 intervaltree-3.1.0 ipymarkup-0.9.0 natasha-1.6.0 navec-0.10.0 pymorphy2-0.9.1 pymorphy2-dicts-ru-2.4.417127.4579844 razdel-0.5.0 slovnet-0.6.0 yargy-0.16.0\n"
          ]
        }
      ]
    },
    {
      "cell_type": "code",
      "source": [
        "!pip install fake_useragent"
      ],
      "metadata": {
        "colab": {
          "base_uri": "https://localhost:8080/"
        },
        "id": "i_MOhhb2y9l-",
        "outputId": "204b38a8-d044-44f6-b066-53fe38f19419"
      },
      "id": "i_MOhhb2y9l-",
      "execution_count": 11,
      "outputs": [
        {
          "output_type": "stream",
          "name": "stdout",
          "text": [
            "Collecting fake_useragent\n",
            "  Downloading fake_useragent-1.3.0-py3-none-any.whl (15 kB)\n",
            "Installing collected packages: fake_useragent\n",
            "Successfully installed fake_useragent-1.3.0\n"
          ]
        }
      ]
    },
    {
      "cell_type": "code",
      "execution_count": 1,
      "id": "8e83ad87-8665-4c08-98f6-d16187ba00a3",
      "metadata": {
        "id": "8e83ad87-8665-4c08-98f6-d16187ba00a3"
      },
      "outputs": [],
      "source": [
        "from sklearn.utils import shuffle\n",
        "from sklearn.model_selection import train_test_split\n",
        "from sklearn.feature_extraction.text import CountVectorizer"
      ]
    },
    {
      "cell_type": "code",
      "source": [
        "from natasha import Segmenter, NewsEmbedding, NewsMorphTagger, MorphVocab, Doc"
      ],
      "metadata": {
        "id": "k_Ampz9J1B3v"
      },
      "id": "k_Ampz9J1B3v",
      "execution_count": 50,
      "outputs": []
    },
    {
      "cell_type": "code",
      "execution_count": 2,
      "id": "7a20fb97-5bba-41a8-a375-32b4e83b0c3f",
      "metadata": {
        "id": "7a20fb97-5bba-41a8-a375-32b4e83b0c3f"
      },
      "outputs": [],
      "source": [
        "from collections import Counter"
      ]
    },
    {
      "cell_type": "code",
      "execution_count": 3,
      "id": "e912d62e-538b-4067-9558-71dc50d8e0e9",
      "metadata": {
        "id": "e912d62e-538b-4067-9558-71dc50d8e0e9"
      },
      "outputs": [],
      "source": [
        "import numpy as np"
      ]
    },
    {
      "cell_type": "code",
      "execution_count": 5,
      "id": "994e4585-21de-4e16-91e3-12fffdbccdf4",
      "metadata": {
        "id": "994e4585-21de-4e16-91e3-12fffdbccdf4"
      },
      "outputs": [],
      "source": [
        "from bs4 import BeautifulSoup\n",
        "import re"
      ]
    },
    {
      "cell_type": "code",
      "execution_count": 6,
      "id": "d2a401df-b975-47f9-868b-5eec8687e3ea",
      "metadata": {
        "id": "d2a401df-b975-47f9-868b-5eec8687e3ea"
      },
      "outputs": [],
      "source": [
        "import requests\n",
        "from pprint import pprint"
      ]
    },
    {
      "cell_type": "code",
      "execution_count": 7,
      "id": "c0829f46-abd8-4586-9cde-68c6d0a559ad",
      "metadata": {
        "colab": {
          "base_uri": "https://localhost:8080/"
        },
        "id": "c0829f46-abd8-4586-9cde-68c6d0a559ad",
        "outputId": "04a06731-144b-4b0e-c18c-2c982d3d04e1"
      },
      "outputs": [
        {
          "output_type": "stream",
          "name": "stderr",
          "text": [
            "[nltk_data] Downloading package stopwords to /root/nltk_data...\n",
            "[nltk_data]   Unzipping corpora/stopwords.zip.\n",
            "[nltk_data] Downloading package punkt to /root/nltk_data...\n",
            "[nltk_data]   Unzipping tokenizers/punkt.zip.\n"
          ]
        }
      ],
      "source": [
        "import nltk\n",
        "nltk.download('stopwords')\n",
        "nltk.download('punkt')\n",
        "from nltk.corpus import stopwords\n",
        "from tqdm import tqdm\n",
        "from nltk.tokenize import word_tokenize"
      ]
    },
    {
      "cell_type": "code",
      "execution_count": 12,
      "id": "e3933faa-00c4-4adc-a830-f8054b75aa9c",
      "metadata": {
        "id": "e3933faa-00c4-4adc-a830-f8054b75aa9c"
      },
      "outputs": [],
      "source": [
        "from fake_useragent import UserAgent"
      ]
    },
    {
      "cell_type": "code",
      "execution_count": 13,
      "id": "8c1c8ea0-700e-4969-988c-08f3506988ff",
      "metadata": {
        "id": "8c1c8ea0-700e-4969-988c-08f3506988ff"
      },
      "outputs": [],
      "source": [
        "from scipy import stats as st"
      ]
    },
    {
      "cell_type": "code",
      "execution_count": 14,
      "id": "bd282b0f-13ac-402c-9da8-9fc93075ccc2",
      "metadata": {
        "id": "bd282b0f-13ac-402c-9da8-9fc93075ccc2"
      },
      "outputs": [],
      "source": [
        "from pymorphy2 import MorphAnalyzer"
      ]
    },
    {
      "cell_type": "code",
      "execution_count": 15,
      "id": "84a5e8f9-b651-4fc3-914b-b5f381adddf6",
      "metadata": {
        "id": "84a5e8f9-b651-4fc3-914b-b5f381adddf6"
      },
      "outputs": [],
      "source": [
        "import pandas as pd"
      ]
    },
    {
      "cell_type": "code",
      "execution_count": 16,
      "id": "50d6221b-75d5-4fab-b2e5-70264ec2b35a",
      "metadata": {
        "id": "50d6221b-75d5-4fab-b2e5-70264ec2b35a"
      },
      "outputs": [],
      "source": [
        "# имитируем пользователя и скачиваем основную страницу со списками отелей с сайта 101hotels.com\n",
        "ua = UserAgent()\n",
        "headers = {'User-Agent': ua.random}\n",
        "session = requests.session()\n",
        "response = session.get('https://m.101hotels.com/main/cities/moskva/inexpensive', headers=headers)\n",
        "page = response.text\n",
        "soup = BeautifulSoup(page, 'html.parser')\n",
        "looking_for_reviews = soup.find_all('div', {'class': 'hotel__title pr-5'})"
      ]
    },
    {
      "cell_type": "code",
      "execution_count": 17,
      "id": "e3a16d92-7efd-4dd1-94b1-40c9bfe78394",
      "metadata": {
        "id": "e3a16d92-7efd-4dd1-94b1-40c9bfe78394"
      },
      "outputs": [],
      "source": [
        "# скачиваем отзывы, размеченные как позитивные, они выведены на страницах отелей в разделе \"что гостям понравилось\"\n",
        "reviews_positive = []\n",
        "for item in looking_for_reviews:\n",
        "    link = item.find('a').attrs['href']\n",
        "    full_link = 'https://m.101hotels.com' + link\n",
        "    fragm = session.get(full_link, headers=headers).text\n",
        "    soup_fragm = BeautifulSoup(fragm, 'html.parser')\n",
        "    reviews_fragm = soup_fragm.find_all('div', {'class': 'hotel-top-reviews__text'})\n",
        "    for elem in reviews_fragm:\n",
        "        review = elem.find('div', {'class': 'response__text-full'}).text\n",
        "        reviews_positive.append(review)"
      ]
    },
    {
      "cell_type": "code",
      "execution_count": 18,
      "id": "c42a1ff4-3842-499c-88d1-0da5a30c7fc5",
      "metadata": {
        "id": "c42a1ff4-3842-499c-88d1-0da5a30c7fc5"
      },
      "outputs": [],
      "source": [
        "# скачиваем негативные отзывы, их можно найти в разделе всех отзывов под меткой \"response__text response__text_dislike\"\n",
        "reviews_negative = []\n",
        "for item in looking_for_reviews:\n",
        "    link = item.find('a').attrs['href']\n",
        "    full_link = 'https://m.101hotels.com' + link\n",
        "    fragm = session.get(full_link, headers=headers).text\n",
        "    soup_fragm = BeautifulSoup(fragm, 'html.parser')\n",
        "    reviews_link = 'https://m.101hotels.com' + soup_fragm.find('div', {'class': 'hotel-rating-item__text'}).find('a').attrs['href']\n",
        "    reviews_page = session.get(reviews_link, headers=headers).text\n",
        "    reviews_content = BeautifulSoup(reviews_page, 'html.parser')\n",
        "    negative_options = reviews_content.select_one('div', {'class': 'response__content'}).find_all('div', {'class': 'response__text response__text_dislike'})\n",
        "    for i in negative_options:\n",
        "        reviews_negative.append(i.text)"
      ]
    },
    {
      "cell_type": "code",
      "execution_count": 19,
      "id": "dacf0a1d-5f5a-4506-bcc2-882df845b343",
      "metadata": {
        "id": "dacf0a1d-5f5a-4506-bcc2-882df845b343"
      },
      "outputs": [],
      "source": [
        "# создаем баланс классов\n",
        "if len(reviews_negative) > len(reviews_positive):\n",
        "    reviews_negative = reviews_negative[:len(reviews_positive)]\n",
        "else:\n",
        "    reviews_positive = reviews_positive[:len(reviews_negative)]"
      ]
    },
    {
      "cell_type": "code",
      "execution_count": 20,
      "id": "1dde07bb-3fb7-4507-9443-a2003eeb3581",
      "metadata": {
        "id": "1dde07bb-3fb7-4507-9443-a2003eeb3581"
      },
      "outputs": [],
      "source": [
        "# создаем датасет с отзывами\n",
        "data = {}\n",
        "data['text'] = []\n",
        "data['target'] = []\n",
        "for post in reviews_positive:\n",
        "    data['text'].append(post)\n",
        "    data['target'].append(1)\n",
        "for post_neg in reviews_negative:\n",
        "    data['text'].append(post_neg)\n",
        "    data['target'].append(0)\n",
        "df = pd.DataFrame(data)\n",
        "df = shuffle(df)\n",
        "df.reset_index(drop=True, inplace=True)"
      ]
    },
    {
      "cell_type": "code",
      "execution_count": 21,
      "id": "734f0aef-a221-4696-9309-9a24dd5d0fb7",
      "metadata": {
        "colab": {
          "base_uri": "https://localhost:8080/",
          "height": 423
        },
        "id": "734f0aef-a221-4696-9309-9a24dd5d0fb7",
        "outputId": "e10e1635-3860-4c17-da61-10eb5ee9fbd0"
      },
      "outputs": [
        {
          "output_type": "execute_result",
          "data": {
            "text/plain": [
              "                                                  text  target\n",
              "0    Хотелось бы более качественную уборку и возмож...       0\n",
              "1    В номере почему-то пахло плесенью, номер требу...       0\n",
              "2    Расположение прекрасное, чистота, красивый диз...       1\n",
              "3    Несоответствие между тем, что указано на сайте...       0\n",
              "4    Расположение рядом магазины, кафе, транспорт, ...       1\n",
              "..                                                 ...     ...\n",
              "253  По утрам в туалетах и душевых грязновато. Но у...       0\n",
              "254  На первый взгляд везде чисто - и в комнатах и ...       1\n",
              "255  Отель находится в самом центре, дошли пешком с...       1\n",
              "256  Не понравилось не очень контактный персонал.За...       0\n",
              "257  Отопление. Местами бывало холодно в номере под...       0\n",
              "\n",
              "[258 rows x 2 columns]"
            ],
            "text/html": [
              "\n",
              "  <div id=\"df-88dc4ed5-2de3-4583-8ad2-5d3266867e9c\" class=\"colab-df-container\">\n",
              "    <div>\n",
              "<style scoped>\n",
              "    .dataframe tbody tr th:only-of-type {\n",
              "        vertical-align: middle;\n",
              "    }\n",
              "\n",
              "    .dataframe tbody tr th {\n",
              "        vertical-align: top;\n",
              "    }\n",
              "\n",
              "    .dataframe thead th {\n",
              "        text-align: right;\n",
              "    }\n",
              "</style>\n",
              "<table border=\"1\" class=\"dataframe\">\n",
              "  <thead>\n",
              "    <tr style=\"text-align: right;\">\n",
              "      <th></th>\n",
              "      <th>text</th>\n",
              "      <th>target</th>\n",
              "    </tr>\n",
              "  </thead>\n",
              "  <tbody>\n",
              "    <tr>\n",
              "      <th>0</th>\n",
              "      <td>Хотелось бы более качественную уборку и возмож...</td>\n",
              "      <td>0</td>\n",
              "    </tr>\n",
              "    <tr>\n",
              "      <th>1</th>\n",
              "      <td>В номере почему-то пахло плесенью, номер требу...</td>\n",
              "      <td>0</td>\n",
              "    </tr>\n",
              "    <tr>\n",
              "      <th>2</th>\n",
              "      <td>Расположение прекрасное, чистота, красивый диз...</td>\n",
              "      <td>1</td>\n",
              "    </tr>\n",
              "    <tr>\n",
              "      <th>3</th>\n",
              "      <td>Несоответствие между тем, что указано на сайте...</td>\n",
              "      <td>0</td>\n",
              "    </tr>\n",
              "    <tr>\n",
              "      <th>4</th>\n",
              "      <td>Расположение рядом магазины, кафе, транспорт, ...</td>\n",
              "      <td>1</td>\n",
              "    </tr>\n",
              "    <tr>\n",
              "      <th>...</th>\n",
              "      <td>...</td>\n",
              "      <td>...</td>\n",
              "    </tr>\n",
              "    <tr>\n",
              "      <th>253</th>\n",
              "      <td>По утрам в туалетах и душевых грязновато. Но у...</td>\n",
              "      <td>0</td>\n",
              "    </tr>\n",
              "    <tr>\n",
              "      <th>254</th>\n",
              "      <td>На первый взгляд везде чисто - и в комнатах и ...</td>\n",
              "      <td>1</td>\n",
              "    </tr>\n",
              "    <tr>\n",
              "      <th>255</th>\n",
              "      <td>Отель находится в самом центре, дошли пешком с...</td>\n",
              "      <td>1</td>\n",
              "    </tr>\n",
              "    <tr>\n",
              "      <th>256</th>\n",
              "      <td>Не понравилось не очень контактный персонал.За...</td>\n",
              "      <td>0</td>\n",
              "    </tr>\n",
              "    <tr>\n",
              "      <th>257</th>\n",
              "      <td>Отопление. Местами бывало холодно в номере под...</td>\n",
              "      <td>0</td>\n",
              "    </tr>\n",
              "  </tbody>\n",
              "</table>\n",
              "<p>258 rows × 2 columns</p>\n",
              "</div>\n",
              "    <div class=\"colab-df-buttons\">\n",
              "\n",
              "  <div class=\"colab-df-container\">\n",
              "    <button class=\"colab-df-convert\" onclick=\"convertToInteractive('df-88dc4ed5-2de3-4583-8ad2-5d3266867e9c')\"\n",
              "            title=\"Convert this dataframe to an interactive table.\"\n",
              "            style=\"display:none;\">\n",
              "\n",
              "  <svg xmlns=\"http://www.w3.org/2000/svg\" height=\"24px\" viewBox=\"0 -960 960 960\">\n",
              "    <path d=\"M120-120v-720h720v720H120Zm60-500h600v-160H180v160Zm220 220h160v-160H400v160Zm0 220h160v-160H400v160ZM180-400h160v-160H180v160Zm440 0h160v-160H620v160ZM180-180h160v-160H180v160Zm440 0h160v-160H620v160Z\"/>\n",
              "  </svg>\n",
              "    </button>\n",
              "\n",
              "  <style>\n",
              "    .colab-df-container {\n",
              "      display:flex;\n",
              "      gap: 12px;\n",
              "    }\n",
              "\n",
              "    .colab-df-convert {\n",
              "      background-color: #E8F0FE;\n",
              "      border: none;\n",
              "      border-radius: 50%;\n",
              "      cursor: pointer;\n",
              "      display: none;\n",
              "      fill: #1967D2;\n",
              "      height: 32px;\n",
              "      padding: 0 0 0 0;\n",
              "      width: 32px;\n",
              "    }\n",
              "\n",
              "    .colab-df-convert:hover {\n",
              "      background-color: #E2EBFA;\n",
              "      box-shadow: 0px 1px 2px rgba(60, 64, 67, 0.3), 0px 1px 3px 1px rgba(60, 64, 67, 0.15);\n",
              "      fill: #174EA6;\n",
              "    }\n",
              "\n",
              "    .colab-df-buttons div {\n",
              "      margin-bottom: 4px;\n",
              "    }\n",
              "\n",
              "    [theme=dark] .colab-df-convert {\n",
              "      background-color: #3B4455;\n",
              "      fill: #D2E3FC;\n",
              "    }\n",
              "\n",
              "    [theme=dark] .colab-df-convert:hover {\n",
              "      background-color: #434B5C;\n",
              "      box-shadow: 0px 1px 3px 1px rgba(0, 0, 0, 0.15);\n",
              "      filter: drop-shadow(0px 1px 2px rgba(0, 0, 0, 0.3));\n",
              "      fill: #FFFFFF;\n",
              "    }\n",
              "  </style>\n",
              "\n",
              "    <script>\n",
              "      const buttonEl =\n",
              "        document.querySelector('#df-88dc4ed5-2de3-4583-8ad2-5d3266867e9c button.colab-df-convert');\n",
              "      buttonEl.style.display =\n",
              "        google.colab.kernel.accessAllowed ? 'block' : 'none';\n",
              "\n",
              "      async function convertToInteractive(key) {\n",
              "        const element = document.querySelector('#df-88dc4ed5-2de3-4583-8ad2-5d3266867e9c');\n",
              "        const dataTable =\n",
              "          await google.colab.kernel.invokeFunction('convertToInteractive',\n",
              "                                                    [key], {});\n",
              "        if (!dataTable) return;\n",
              "\n",
              "        const docLinkHtml = 'Like what you see? Visit the ' +\n",
              "          '<a target=\"_blank\" href=https://colab.research.google.com/notebooks/data_table.ipynb>data table notebook</a>'\n",
              "          + ' to learn more about interactive tables.';\n",
              "        element.innerHTML = '';\n",
              "        dataTable['output_type'] = 'display_data';\n",
              "        await google.colab.output.renderOutput(dataTable, element);\n",
              "        const docLink = document.createElement('div');\n",
              "        docLink.innerHTML = docLinkHtml;\n",
              "        element.appendChild(docLink);\n",
              "      }\n",
              "    </script>\n",
              "  </div>\n",
              "\n",
              "\n",
              "<div id=\"df-8641b8a1-9be4-45e1-aad2-9990916003e6\">\n",
              "  <button class=\"colab-df-quickchart\" onclick=\"quickchart('df-8641b8a1-9be4-45e1-aad2-9990916003e6')\"\n",
              "            title=\"Suggest charts.\"\n",
              "            style=\"display:none;\">\n",
              "\n",
              "<svg xmlns=\"http://www.w3.org/2000/svg\" height=\"24px\"viewBox=\"0 0 24 24\"\n",
              "     width=\"24px\">\n",
              "    <g>\n",
              "        <path d=\"M19 3H5c-1.1 0-2 .9-2 2v14c0 1.1.9 2 2 2h14c1.1 0 2-.9 2-2V5c0-1.1-.9-2-2-2zM9 17H7v-7h2v7zm4 0h-2V7h2v10zm4 0h-2v-4h2v4z\"/>\n",
              "    </g>\n",
              "</svg>\n",
              "  </button>\n",
              "\n",
              "<style>\n",
              "  .colab-df-quickchart {\n",
              "      --bg-color: #E8F0FE;\n",
              "      --fill-color: #1967D2;\n",
              "      --hover-bg-color: #E2EBFA;\n",
              "      --hover-fill-color: #174EA6;\n",
              "      --disabled-fill-color: #AAA;\n",
              "      --disabled-bg-color: #DDD;\n",
              "  }\n",
              "\n",
              "  [theme=dark] .colab-df-quickchart {\n",
              "      --bg-color: #3B4455;\n",
              "      --fill-color: #D2E3FC;\n",
              "      --hover-bg-color: #434B5C;\n",
              "      --hover-fill-color: #FFFFFF;\n",
              "      --disabled-bg-color: #3B4455;\n",
              "      --disabled-fill-color: #666;\n",
              "  }\n",
              "\n",
              "  .colab-df-quickchart {\n",
              "    background-color: var(--bg-color);\n",
              "    border: none;\n",
              "    border-radius: 50%;\n",
              "    cursor: pointer;\n",
              "    display: none;\n",
              "    fill: var(--fill-color);\n",
              "    height: 32px;\n",
              "    padding: 0;\n",
              "    width: 32px;\n",
              "  }\n",
              "\n",
              "  .colab-df-quickchart:hover {\n",
              "    background-color: var(--hover-bg-color);\n",
              "    box-shadow: 0 1px 2px rgba(60, 64, 67, 0.3), 0 1px 3px 1px rgba(60, 64, 67, 0.15);\n",
              "    fill: var(--button-hover-fill-color);\n",
              "  }\n",
              "\n",
              "  .colab-df-quickchart-complete:disabled,\n",
              "  .colab-df-quickchart-complete:disabled:hover {\n",
              "    background-color: var(--disabled-bg-color);\n",
              "    fill: var(--disabled-fill-color);\n",
              "    box-shadow: none;\n",
              "  }\n",
              "\n",
              "  .colab-df-spinner {\n",
              "    border: 2px solid var(--fill-color);\n",
              "    border-color: transparent;\n",
              "    border-bottom-color: var(--fill-color);\n",
              "    animation:\n",
              "      spin 1s steps(1) infinite;\n",
              "  }\n",
              "\n",
              "  @keyframes spin {\n",
              "    0% {\n",
              "      border-color: transparent;\n",
              "      border-bottom-color: var(--fill-color);\n",
              "      border-left-color: var(--fill-color);\n",
              "    }\n",
              "    20% {\n",
              "      border-color: transparent;\n",
              "      border-left-color: var(--fill-color);\n",
              "      border-top-color: var(--fill-color);\n",
              "    }\n",
              "    30% {\n",
              "      border-color: transparent;\n",
              "      border-left-color: var(--fill-color);\n",
              "      border-top-color: var(--fill-color);\n",
              "      border-right-color: var(--fill-color);\n",
              "    }\n",
              "    40% {\n",
              "      border-color: transparent;\n",
              "      border-right-color: var(--fill-color);\n",
              "      border-top-color: var(--fill-color);\n",
              "    }\n",
              "    60% {\n",
              "      border-color: transparent;\n",
              "      border-right-color: var(--fill-color);\n",
              "    }\n",
              "    80% {\n",
              "      border-color: transparent;\n",
              "      border-right-color: var(--fill-color);\n",
              "      border-bottom-color: var(--fill-color);\n",
              "    }\n",
              "    90% {\n",
              "      border-color: transparent;\n",
              "      border-bottom-color: var(--fill-color);\n",
              "    }\n",
              "  }\n",
              "</style>\n",
              "\n",
              "  <script>\n",
              "    async function quickchart(key) {\n",
              "      const quickchartButtonEl =\n",
              "        document.querySelector('#' + key + ' button');\n",
              "      quickchartButtonEl.disabled = true;  // To prevent multiple clicks.\n",
              "      quickchartButtonEl.classList.add('colab-df-spinner');\n",
              "      try {\n",
              "        const charts = await google.colab.kernel.invokeFunction(\n",
              "            'suggestCharts', [key], {});\n",
              "      } catch (error) {\n",
              "        console.error('Error during call to suggestCharts:', error);\n",
              "      }\n",
              "      quickchartButtonEl.classList.remove('colab-df-spinner');\n",
              "      quickchartButtonEl.classList.add('colab-df-quickchart-complete');\n",
              "    }\n",
              "    (() => {\n",
              "      let quickchartButtonEl =\n",
              "        document.querySelector('#df-8641b8a1-9be4-45e1-aad2-9990916003e6 button');\n",
              "      quickchartButtonEl.style.display =\n",
              "        google.colab.kernel.accessAllowed ? 'block' : 'none';\n",
              "    })();\n",
              "  </script>\n",
              "</div>\n",
              "    </div>\n",
              "  </div>\n"
            ]
          },
          "metadata": {},
          "execution_count": 21
        }
      ],
      "source": [
        "# выводим пример того, как выглядит датасет\n",
        "df"
      ]
    },
    {
      "cell_type": "code",
      "execution_count": 22,
      "id": "654735e8-dbbf-419b-a3c1-dc4648dc1740",
      "metadata": {
        "id": "654735e8-dbbf-419b-a3c1-dc4648dc1740"
      },
      "outputs": [],
      "source": [
        "# сохраняем датасет в файл на будущее\n",
        "df.to_csv('pos_neg_posts_df.csv')"
      ]
    },
    {
      "cell_type": "code",
      "execution_count": 24,
      "id": "98562175-66a7-4eec-b8c9-1ae3e7f10cc0",
      "metadata": {
        "id": "98562175-66a7-4eec-b8c9-1ae3e7f10cc0"
      },
      "outputs": [],
      "source": [
        "morph = MorphAnalyzer()\n",
        "stop_w = set(stopwords.words('russian'))"
      ]
    },
    {
      "cell_type": "code",
      "execution_count": 25,
      "id": "4b162e3d-0859-4ac0-ac5c-292e034caf3d",
      "metadata": {
        "id": "4b162e3d-0859-4ac0-ac5c-292e034caf3d"
      },
      "outputs": [],
      "source": [
        "# создаем функцию для препроцессинга отзывов\n",
        "def preprocessing(arr):\n",
        "    corpus=[]\n",
        "    for text in tqdm(arr):\n",
        "        text = text.replace('\\r\\n', ' ')\n",
        "        words=[word.lower() for word in word_tokenize(text) if ((word.isalpha() == 1) & (word not in stop_w))]\n",
        "        lemmatized_output = ' '.join([morph.parse(w)[0].normal_form for w in words])\n",
        "        corpus.append(lemmatized_output)\n",
        "    return corpus"
      ]
    },
    {
      "cell_type": "code",
      "execution_count": 26,
      "id": "e8d2ddf6-e6fc-4d96-bf9b-12a7f8618328",
      "metadata": {
        "colab": {
          "base_uri": "https://localhost:8080/"
        },
        "id": "e8d2ddf6-e6fc-4d96-bf9b-12a7f8618328",
        "outputId": "f6832e18-2d95-4609-920a-113bdbd57ebf"
      },
      "outputs": [
        {
          "output_type": "stream",
          "name": "stderr",
          "text": [
            "100%|██████████| 258/258 [00:01<00:00, 216.59it/s]\n"
          ]
        }
      ],
      "source": [
        "# применяем функцию к датасету, разбиваем датасет на признаки и целевую переменную\n",
        "df['text'] = preprocessing(df['text'])\n",
        "df_x = df['text']\n",
        "df_y = df['target']"
      ]
    },
    {
      "cell_type": "code",
      "execution_count": 27,
      "id": "1f5ea92d-f768-400a-b338-fad0410d95c3",
      "metadata": {
        "id": "1f5ea92d-f768-400a-b338-fad0410d95c3"
      },
      "outputs": [],
      "source": [
        "# разбиваем датасет на тренировочную и тестовую выборку\n",
        "np.random.seed(11)\n",
        "X_train, X_test, y_train, y_test = train_test_split(df_x, df_y, test_size=0.3, random_state=10)"
      ]
    },
    {
      "cell_type": "code",
      "execution_count": 28,
      "id": "f056c328-5dd2-44c2-8b22-78d8a73b1b39",
      "metadata": {
        "id": "f056c328-5dd2-44c2-8b22-78d8a73b1b39"
      },
      "outputs": [],
      "source": [
        "# делаем список только позитивных и только негативных отзывов из датафрейма, смотрим пересечение, смотрим частотность\n",
        "reviews_positive_train = list(X_train[y_train == 1])\n",
        "reviews_negative_train = list(X_train[y_train == 0])\n",
        "\n",
        "positive_words = (' '.join(reviews_positive_train)).split()\n",
        "dict_positive_apppear = Counter(positive_words)\n",
        "negative_words = (' '.join(reviews_negative_train)).split()\n",
        "dict_negative_apppear = Counter(negative_words)\n",
        "\n",
        "set_positive_words = set(positive_words)\n",
        "set_negative_words = set(negative_words)\n",
        "in_both_types = set_positive_words & set_negative_words\n",
        "\n",
        "list_positive_words = list(set_positive_words)\n",
        "list_negative_words = list(set_negative_words)\n",
        "list_in_both_types = list(in_both_types)"
      ]
    },
    {
      "cell_type": "code",
      "execution_count": 29,
      "id": "649ab829-7e54-475c-94cf-735434d90f51",
      "metadata": {
        "id": "649ab829-7e54-475c-94cf-735434d90f51"
      },
      "outputs": [],
      "source": [
        "# убираем пересечение слов негативных и позитивных отзывов из обоих списков\n",
        "i = 0\n",
        "j = 0\n",
        "while i < len(list_positive_words):\n",
        "    if list_positive_words[i] in list_in_both_types:\n",
        "        list_positive_words.pop(i)\n",
        "    else:\n",
        "        i += 1\n",
        "\n",
        "while j < len(list_negative_words):\n",
        "    if list_negative_words[j] in list_in_both_types:\n",
        "        list_negative_words.pop(j)\n",
        "    else:\n",
        "        j += 1\n",
        ""
      ]
    },
    {
      "cell_type": "code",
      "execution_count": 30,
      "id": "548ec70b-fbae-4e82-9d5e-f7ef7eff70f1",
      "metadata": {
        "id": "548ec70b-fbae-4e82-9d5e-f7ef7eff70f1"
      },
      "outputs": [],
      "source": [
        "# пробуем учесть частотности слов и их длину (так могут исключиться вещи, которые не вошли в стоп-слова, но могут ими считаться)\n",
        "t = 0\n",
        "k = 0\n",
        "while t < len(list_positive_words):\n",
        "    if dict_positive_apppear[list_positive_words[t]] < 3 or len(list_positive_words[t]) < 3:\n",
        "        list_positive_words.pop(t)\n",
        "    else:\n",
        "        t += 1\n",
        "\n",
        "while k < len(list_negative_words):\n",
        "    if dict_negative_apppear[list_negative_words[k]] < 3 or len(list_negative_words[k]) < 3:\n",
        "        list_negative_words.pop(k)\n",
        "    else:\n",
        "        k += 1"
      ]
    },
    {
      "cell_type": "code",
      "execution_count": 31,
      "id": "e640b1b2-258b-4108-92c4-c70707d24188",
      "metadata": {
        "id": "e640b1b2-258b-4108-92c4-c70707d24188"
      },
      "outputs": [],
      "source": [
        "# создаем итоговые множества позитивных и негативных слов из отзывов\n",
        "only_positive = set(list_positive_words)\n",
        "only_negative = set(list_negative_words)"
      ]
    },
    {
      "cell_type": "code",
      "execution_count": 32,
      "id": "d1c3c3f7-5903-477b-8492-653e9d91ec29",
      "metadata": {
        "id": "d1c3c3f7-5903-477b-8492-653e9d91ec29"
      },
      "outputs": [],
      "source": [
        "# создаем функцию классификации отзывов по имеющимся множествам позитивных и негативных слов из отзывов\n",
        "def predict_tone(arr, pos_l, neg_l):\n",
        "    ans = []\n",
        "    for text in arr:\n",
        "        content = set(text.split())\n",
        "        # считаем, каких вхождений больше, выводим превалирующее\n",
        "        if len(content & pos_l) > len(content & neg_l):\n",
        "            ans.append(1)\n",
        "        else:\n",
        "            ans.append(0)\n",
        "    return ans"
      ]
    },
    {
      "cell_type": "code",
      "execution_count": 33,
      "id": "9e94017e-51be-4e6c-9377-984b1be698a6",
      "metadata": {
        "id": "9e94017e-51be-4e6c-9377-984b1be698a6"
      },
      "outputs": [],
      "source": [
        "# создаем функцию для подсчета accuracy\n",
        "def accuracy_score(prediction, y):\n",
        "    return (len(prediction) - np.sum(np.absolute(np.array(prediction) - np.array(y)))) / len(prediction)"
      ]
    },
    {
      "cell_type": "code",
      "execution_count": 34,
      "id": "e39f80d4-4b6d-4800-836c-48d606e416d1",
      "metadata": {
        "id": "e39f80d4-4b6d-4800-836c-48d606e416d1"
      },
      "outputs": [],
      "source": [
        "# делаем предсказание на тренировочной и тестовых выборках\n",
        "predicted_train = predict_tone(X_train, only_positive, only_negative)\n",
        "predicted_test = predict_tone(X_test, only_positive, only_negative)"
      ]
    },
    {
      "cell_type": "code",
      "execution_count": 35,
      "id": "c78b30c6-5649-46e6-aac5-95532d20c820",
      "metadata": {
        "colab": {
          "base_uri": "https://localhost:8080/"
        },
        "id": "c78b30c6-5649-46e6-aac5-95532d20c820",
        "outputId": "e0888296-a733-463b-ff4d-b4159359d130"
      },
      "outputs": [
        {
          "output_type": "stream",
          "name": "stdout",
          "text": [
            "train = 0.9833333333333333\n",
            "test = 0.8461538461538461\n"
          ]
        }
      ],
      "source": [
        "# выводим accuracy для тренировочной и тестовой выборок\n",
        "print(f\"train = {accuracy_score(predicted_train, y_train)}\")\n",
        "print(f\"test = {accuracy_score(predicted_test, y_test)}\")"
      ]
    },
    {
      "cell_type": "markdown",
      "id": "36097a5d-e492-4883-86aa-4a7dd933f266",
      "metadata": {
        "id": "36097a5d-e492-4883-86aa-4a7dd933f266"
      },
      "source": [
        "#### Как улучшить алгоритм:\n",
        "\n",
        "1. попробуем использовать биграммы вместо одиночных слов\n",
        "   \n",
        "2. векторизация текста и подсчет евклидовой метрики между векторами тренировочной и тестовой выборок"
      ]
    },
    {
      "cell_type": "code",
      "execution_count": 36,
      "id": "55fd0c30-4624-4246-a905-82e6b7b1bf62",
      "metadata": {
        "id": "55fd0c30-4624-4246-a905-82e6b7b1bf62"
      },
      "outputs": [],
      "source": [
        "# реализация первого способа, функция для поиска биграмм позитивных и негативных отзывов\n",
        "def bigrams_search(arr):\n",
        "    bigrams = []\n",
        "    for text in tqdm(arr):\n",
        "        text_new = re.findall(r'[^\\s]+[\\s][^\\s]+', text)\n",
        "        for bigram in text_new:\n",
        "            bigrams.append(bigram)\n",
        "        text_add = ' '.join(text.split()[1:])\n",
        "        text_add_new = re.findall(r'[^\\s]+[\\s][^\\s]+', text_add)\n",
        "        for bigram_add in text_add_new:\n",
        "            bigrams.append(bigram_add)\n",
        "    return bigrams"
      ]
    },
    {
      "cell_type": "code",
      "execution_count": 38,
      "id": "2e6fdfe8-f338-4a41-8cee-fef4ea0765e7",
      "metadata": {
        "colab": {
          "base_uri": "https://localhost:8080/"
        },
        "id": "2e6fdfe8-f338-4a41-8cee-fef4ea0765e7",
        "outputId": "1b6c4d19-85de-4b52-96a8-c0d17aeb843f"
      },
      "outputs": [
        {
          "output_type": "stream",
          "name": "stderr",
          "text": [
            "100%|██████████| 82/82 [00:00<00:00, 9845.50it/s]\n",
            "100%|██████████| 98/98 [00:00<00:00, 21962.05it/s]\n"
          ]
        }
      ],
      "source": [
        "bigrams_positive = bigrams_search(X_train[y_train == 1])\n",
        "bigrams_negative = bigrams_search(X_train[y_train == 0])"
      ]
    },
    {
      "cell_type": "code",
      "execution_count": 39,
      "id": "f8c5c0e0-b9e8-4ab4-ae96-948028ab5115",
      "metadata": {
        "id": "f8c5c0e0-b9e8-4ab4-ae96-948028ab5115"
      },
      "outputs": [],
      "source": [
        "# смотрим на частотность биграмм, создаем список биграмм позитивных и негативных отзывов, смотрим пересечение\n",
        "dict_positive_bigr = Counter(bigrams_positive)\n",
        "dict_negative_bigr = Counter(bigrams_negative)\n",
        "\n",
        "set_positive_bigr = set(bigrams_positive)\n",
        "set_negative_bigr = set(bigrams_negative)\n",
        "in_both_bigr = set_positive_bigr & set_negative_bigr\n",
        "\n",
        "list_positive_bigr = list(set_positive_bigr)\n",
        "list_negative_bigr = list(set_negative_bigr)\n",
        "list_in_both_bigr = list(in_both_bigr)"
      ]
    },
    {
      "cell_type": "code",
      "execution_count": 40,
      "id": "5773eebe-7c14-45b5-87ee-82585f31b24f",
      "metadata": {
        "id": "5773eebe-7c14-45b5-87ee-82585f31b24f"
      },
      "outputs": [],
      "source": [
        "#  убираем пересечение из списков, чистим списки по частотности\n",
        "f = 0\n",
        "l = 0\n",
        "while f < len(list_positive_bigr):\n",
        "    if list_positive_bigr[f] in list_in_both_bigr or dict_positive_bigr[list_positive_bigr[f]] < 3:\n",
        "        list_positive_bigr.pop(f)\n",
        "    else:\n",
        "        f += 1\n",
        "\n",
        "while l < len(list_negative_bigr):\n",
        "    if list_negative_bigr[l] in list_in_both_bigr or dict_negative_bigr[list_negative_bigr[l]] < 3:\n",
        "        list_negative_bigr.pop(l)\n",
        "    else:\n",
        "        l += 1"
      ]
    },
    {
      "cell_type": "code",
      "execution_count": 41,
      "id": "f759f72b-1d71-4d6c-9f10-c0ceb0b5b539",
      "metadata": {
        "id": "f759f72b-1d71-4d6c-9f10-c0ceb0b5b539"
      },
      "outputs": [],
      "source": [
        "only_positive_bigr = set(list_positive_bigr)\n",
        "only_negative_bigr = set(list_negative_bigr)"
      ]
    },
    {
      "cell_type": "code",
      "execution_count": 43,
      "id": "2bb93684-7e2c-4a6b-98ad-b211098544c7",
      "metadata": {
        "id": "2bb93684-7e2c-4a6b-98ad-b211098544c7"
      },
      "outputs": [],
      "source": [
        "# функция для предсказания тональности по биграммам\n",
        "def predict_tone_bigr(arr, pos_l, neg_l):\n",
        "    ans = []\n",
        "    for text in arr:\n",
        "        content = set(re.findall(r'[^\\s]+[\\s][^\\s]+', text)) | set(re.findall(r'[^\\s]+[\\s][^\\s]+', ' '.join(text.split()[1:])))\n",
        "        if len(content & pos_l) > len(content & neg_l):\n",
        "            ans.append(1)\n",
        "        else:\n",
        "            ans.append(0)\n",
        "    return ans"
      ]
    },
    {
      "cell_type": "code",
      "execution_count": 44,
      "id": "15074f34-70d1-4af7-bbc6-ff754d552d98",
      "metadata": {
        "id": "15074f34-70d1-4af7-bbc6-ff754d552d98"
      },
      "outputs": [],
      "source": [
        "# предсказания на тренировочной и тестовой выборках\n",
        "predicted_train_bigr = predict_tone_bigr(X_train, only_positive_bigr, only_negative_bigr)\n",
        "predicted_test_bigr = predict_tone_bigr(X_test, only_positive_bigr, only_negative_bigr)"
      ]
    },
    {
      "cell_type": "code",
      "execution_count": 45,
      "id": "0c9c0cfb-bb41-4486-b06e-d17840bdf6bd",
      "metadata": {
        "colab": {
          "base_uri": "https://localhost:8080/"
        },
        "id": "0c9c0cfb-bb41-4486-b06e-d17840bdf6bd",
        "outputId": "db6c1a3f-5152-4fd8-9d05-5853ad612f7a"
      },
      "outputs": [
        {
          "output_type": "stream",
          "name": "stdout",
          "text": [
            "train = 0.8333333333333334\n",
            "test = 0.6794871794871795\n"
          ]
        }
      ],
      "source": [
        "# выводим accuracy для тренировочной и тестовой выборок\n",
        "print(f\"train = {accuracy_score(predicted_train_bigr, y_train)}\")\n",
        "print(f\"test = {accuracy_score(predicted_test_bigr, y_test)}\")"
      ]
    },
    {
      "cell_type": "code",
      "execution_count": 46,
      "id": "c1012024-48d8-4a77-b8ad-6d6d7a8791c2",
      "metadata": {
        "id": "c1012024-48d8-4a77-b8ad-6d6d7a8791c2"
      },
      "outputs": [],
      "source": [
        "# реализация второго способа\n",
        "vect = CountVectorizer(min_df = 10)\n",
        "X_train_bow = vect.fit_transform(X_train).toarray()\n",
        "X_test_bow = vect.transform(X_test).toarray()"
      ]
    },
    {
      "cell_type": "code",
      "execution_count": 47,
      "id": "099778b8-4336-4c6e-bc25-bcd554860b51",
      "metadata": {
        "id": "099778b8-4336-4c6e-bc25-bcd554860b51"
      },
      "outputs": [],
      "source": [
        "# функция для предсказания целевой переменной по векторам\n",
        "def predict_new_way(k, y_train, X_train, X_test):\n",
        "    # сортирую полученные значения, выводя их индексы, оставляю k нужных\n",
        "    # здесь я с помощью евклидовой метрики вычисляю расстояние между объектами тестовой и тренировочной выборки\n",
        "    # потом сортирую полученные значения, выводя их индексы, оставляю k нужных\n",
        "    index = np.argsort(((((X_test[:, np.newaxis, :] - X_train[np.newaxis, :, :])**2).sum(axis=2))**0.5), axis = -1)[:, :k]\n",
        "    # вывожу моду среди значений по индексам\n",
        "    return st.mode(np.array(y_train)[index], axis=1).mode"
      ]
    },
    {
      "cell_type": "code",
      "execution_count": 48,
      "id": "7c697645-37c4-489a-a542-90c8412c714f",
      "metadata": {
        "id": "7c697645-37c4-489a-a542-90c8412c714f"
      },
      "outputs": [],
      "source": [
        "# предсказание на тестовой выборке\n",
        "predicted_new_way = predict_new_way(3, y_train, X_train_bow, X_test_bow)"
      ]
    },
    {
      "cell_type": "code",
      "execution_count": 49,
      "id": "2f3969d9-0625-4e03-b365-d8b1ac585062",
      "metadata": {
        "colab": {
          "base_uri": "https://localhost:8080/"
        },
        "id": "2f3969d9-0625-4e03-b365-d8b1ac585062",
        "outputId": "24154fa1-03d9-4043-d5b8-dfe498ab770c"
      },
      "outputs": [
        {
          "output_type": "stream",
          "name": "stdout",
          "text": [
            "0.5897435897435898\n"
          ]
        }
      ],
      "source": [
        "# выводим accuracy для тестовой выборки\n",
        "print(accuracy_score(predicted_new_way, y_test))"
      ]
    },
    {
      "cell_type": "markdown",
      "source": [
        "#### Chunker!!!"
      ],
      "metadata": {
        "id": "XvsJfhDQ0iAO"
      },
      "id": "XvsJfhDQ0iAO"
    },
    {
      "cell_type": "code",
      "source": [
        "segmenter = Segmenter()\n",
        "morph_vocab = MorphVocab()\n",
        "emb = NewsEmbedding()\n",
        "morph_tagger = NewsMorphTagger(emb)"
      ],
      "metadata": {
        "id": "bZRRjRHi0hEW"
      },
      "id": "bZRRjRHi0hEW",
      "execution_count": 51,
      "outputs": []
    },
    {
      "cell_type": "code",
      "source": [
        "def chunker(sequence, size):\n",
        "    output = []\n",
        "    for elem in range(0, len(sequence) - (size - 1)):\n",
        "        output.append(sequence[elem: elem + size])\n",
        "    return output"
      ],
      "metadata": {
        "id": "TMmmVeL40pxm"
      },
      "id": "TMmmVeL40pxm",
      "execution_count": 52,
      "outputs": []
    },
    {
      "cell_type": "code",
      "source": [
        "def bigrams(text):\n",
        "    result = []\n",
        "    doc = Doc(text)\n",
        "    doc.segment(segmenter)\n",
        "    doc.tag_morph(morph_tagger)\n",
        "    for sht in chunker(doc.tokens, 2):\n",
        "        if sht[0].pos == 'ADV' and sht[1].pos == 'ADJ':\n",
        "            result.append(' '.join([sht[0].text, sht[1].text]))\n",
        "        if sht[0].pos == 'ADJ' and sht[1].pos == 'NOUN':\n",
        "            result.append(' '.join([sht[0].text, sht[1].text]))\n",
        "    for sht in chunker(doc.tokens, 3):\n",
        "        if sht[0].text == 'не' and sht[1].pos == 'VERB':\n",
        "            result.append(' '.join([sht[0].text, sht[1].text]))\n",
        "    return set(result)"
      ],
      "metadata": {
        "id": "RA-IYega0xGt"
      },
      "id": "RA-IYega0xGt",
      "execution_count": 53,
      "outputs": []
    },
    {
      "cell_type": "code",
      "source": [
        "bigrams_positive = bigrams(' '.join([x for x in X_train[y_train == 1]]))\n",
        "bigrams_negative = bigrams(' '.join([x for x in X_train[y_train == 0]]))\n",
        "total_positive = only_positive | bigrams_positive\n",
        "total_negative = only_negative | bigrams_negative"
      ],
      "metadata": {
        "id": "5JI0HUkA1GHL"
      },
      "id": "5JI0HUkA1GHL",
      "execution_count": 58,
      "outputs": []
    },
    {
      "cell_type": "code",
      "source": [
        "ans = []\n",
        "arr = [x for x in X_test]\n",
        "for text in arr:\n",
        "  content = bigrams(text) | set(text.split())\n",
        "  if len(content & total_positive) > len(content & total_negative):\n",
        "    ans.append(1)\n",
        "  else:\n",
        "    ans.append(0)"
      ],
      "metadata": {
        "id": "h7wez1A11s-g"
      },
      "id": "h7wez1A11s-g",
      "execution_count": 59,
      "outputs": []
    },
    {
      "cell_type": "code",
      "source": [
        "print(accuracy_score(ans, y_test))"
      ],
      "metadata": {
        "colab": {
          "base_uri": "https://localhost:8080/"
        },
        "id": "BiETgyE23Hcw",
        "outputId": "e413f785-cfa8-49bf-f2c7-821ac994e768"
      },
      "id": "BiETgyE23Hcw",
      "execution_count": 60,
      "outputs": [
        {
          "output_type": "stream",
          "name": "stdout",
          "text": [
            "0.8717948717948718\n"
          ]
        }
      ]
    },
    {
      "cell_type": "markdown",
      "source": [
        "Качество предсказания с улучшением стало лучше! Было 0,84 (см самое первое предсказание на тесте), а стало 0,87. Я улучшение прикрутила к самому хорошему варианту, то есть к сету уникальных слов добавила наши биграммы, полученные с помощью чанкера."
      ],
      "metadata": {
        "id": "vX50PdeP3ZiG"
      },
      "id": "vX50PdeP3ZiG"
    }
  ],
  "metadata": {
    "kernelspec": {
      "display_name": "Python 3 (ipykernel)",
      "language": "python",
      "name": "python3"
    },
    "language_info": {
      "codemirror_mode": {
        "name": "ipython",
        "version": 3
      },
      "file_extension": ".py",
      "mimetype": "text/x-python",
      "name": "python",
      "nbconvert_exporter": "python",
      "pygments_lexer": "ipython3",
      "version": "3.10.12"
    },
    "colab": {
      "provenance": []
    }
  },
  "nbformat": 4,
  "nbformat_minor": 5
}